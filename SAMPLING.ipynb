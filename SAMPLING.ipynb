{
  "nbformat": 4,
  "nbformat_minor": 0,
  "metadata": {
    "colab": {
      "provenance": [],
      "authorship_tag": "ABX9TyM9/ICI7jtL9G+bNslkbRea",
      "include_colab_link": true
    },
    "kernelspec": {
      "name": "python3",
      "display_name": "Python 3"
    },
    "language_info": {
      "name": "python"
    }
  },
  "cells": [
    {
      "cell_type": "markdown",
      "metadata": {
        "id": "view-in-github",
        "colab_type": "text"
      },
      "source": [
        "<a href=\"https://colab.research.google.com/github/khushisrivastava1/sampling/blob/main/SAMPLING.ipynb\" target=\"_parent\"><img src=\"https://colab.research.google.com/assets/colab-badge.svg\" alt=\"Open In Colab\"/></a>"
      ]
    },
    {
      "cell_type": "code",
      "execution_count": 187,
      "metadata": {
        "id": "9XSG0xWofISa"
      },
      "outputs": [],
      "source": [
        "import pandas as pd\n",
        "import numpy as np\n",
        "import math\n",
        "from imblearn.over_sampling import RandomOverSampler\n",
        "from sklearn.model_selection import train_test_split\n",
        "from sklearn.linear_model import LogisticRegression\n",
        "from sklearn.metrics import accuracy_score\n",
        "from sklearn.svm import SVC\n",
        "from sklearn.neighbors import KNeighborsClassifier\n",
        "from sklearn.tree import DecisionTreeClassifier\n",
        "from sklearn.ensemble import RandomForestClassifier\n",
        "from xgboost import XGBClassifier"
      ]
    },
    {
      "cell_type": "code",
      "source": [
        "credit_card=pd.read_csv('/content/sampling_dataset.csv')"
      ],
      "metadata": {
        "id": "N8l2UwUMfrna"
      },
      "execution_count": 188,
      "outputs": []
    },
    {
      "cell_type": "code",
      "source": [
        "credit_card.info()"
      ],
      "metadata": {
        "colab": {
          "base_uri": "https://localhost:8080/"
        },
        "id": "mPyuRezxfxSx",
        "outputId": "250121c9-c002-4fdc-d053-3504795f2709"
      },
      "execution_count": 189,
      "outputs": [
        {
          "output_type": "stream",
          "name": "stdout",
          "text": [
            "<class 'pandas.core.frame.DataFrame'>\n",
            "RangeIndex: 772 entries, 0 to 771\n",
            "Data columns (total 31 columns):\n",
            " #   Column  Non-Null Count  Dtype  \n",
            "---  ------  --------------  -----  \n",
            " 0   Time    772 non-null    int64  \n",
            " 1   V1      772 non-null    float64\n",
            " 2   V2      772 non-null    float64\n",
            " 3   V3      772 non-null    float64\n",
            " 4   V4      772 non-null    float64\n",
            " 5   V5      772 non-null    float64\n",
            " 6   V6      772 non-null    float64\n",
            " 7   V7      772 non-null    float64\n",
            " 8   V8      772 non-null    float64\n",
            " 9   V9      772 non-null    float64\n",
            " 10  V10     772 non-null    float64\n",
            " 11  V11     772 non-null    float64\n",
            " 12  V12     772 non-null    float64\n",
            " 13  V13     772 non-null    float64\n",
            " 14  V14     772 non-null    float64\n",
            " 15  V15     772 non-null    float64\n",
            " 16  V16     772 non-null    float64\n",
            " 17  V17     772 non-null    float64\n",
            " 18  V18     772 non-null    float64\n",
            " 19  V19     772 non-null    float64\n",
            " 20  V20     772 non-null    float64\n",
            " 21  V21     772 non-null    float64\n",
            " 22  V22     772 non-null    float64\n",
            " 23  V23     772 non-null    float64\n",
            " 24  V24     772 non-null    float64\n",
            " 25  V25     772 non-null    float64\n",
            " 26  V26     772 non-null    float64\n",
            " 27  V27     772 non-null    float64\n",
            " 28  V28     772 non-null    float64\n",
            " 29  Amount  772 non-null    float64\n",
            " 30  Class   772 non-null    int64  \n",
            "dtypes: float64(29), int64(2)\n",
            "memory usage: 187.1 KB\n"
          ]
        }
      ]
    },
    {
      "cell_type": "code",
      "source": [
        "credit_card.describe()"
      ],
      "metadata": {
        "colab": {
          "base_uri": "https://localhost:8080/",
          "height": 393
        },
        "id": "FmAfLm0Uf3Fr",
        "outputId": "20bba38d-1244-4fad-a51d-73856568507f"
      },
      "execution_count": 190,
      "outputs": [
        {
          "output_type": "execute_result",
          "data": {
            "text/plain": [
              "             Time          V1          V2          V3          V4          V5  \\\n",
              "count  772.000000  772.000000  772.000000  772.000000  772.000000  772.000000   \n",
              "mean   283.005181   -0.176963    0.217169    0.875172    0.285628   -0.005029   \n",
              "std    171.834196    1.294724    1.173401    1.031878    1.258758    1.098143   \n",
              "min      0.000000   -6.093248  -12.114213   -5.694973   -4.657545   -6.631951   \n",
              "25%    126.500000   -0.896416   -0.174684    0.308677   -0.460058   -0.534567   \n",
              "50%    282.000000   -0.382618    0.285843    0.905435    0.395919   -0.116612   \n",
              "75%    432.000000    1.110739    0.885745    1.532969    1.117559    0.452818   \n",
              "max    581.000000    1.586093    5.267376    3.772857    4.075817    7.672544   \n",
              "\n",
              "               V6          V7          V8          V9  ...         V21  \\\n",
              "count  772.000000  772.000000  772.000000  772.000000  ...  772.000000   \n",
              "mean     0.159081    0.123329   -0.057547   -0.030384  ...    0.004888   \n",
              "std      1.225682    0.852075    0.830144    0.878183  ...    0.609335   \n",
              "min     -3.498447   -4.925568   -7.494658   -2.770089  ...   -4.134608   \n",
              "25%     -0.630717   -0.296289   -0.167880   -0.517068  ...   -0.213746   \n",
              "50%     -0.109581    0.116329    0.034755   -0.082270  ...   -0.075802   \n",
              "75%      0.482972    0.575390    0.252395    0.412261  ...    0.095149   \n",
              "max      5.122103    4.808426    2.134599    5.459274  ...    5.273420   \n",
              "\n",
              "              V22         V23         V24         V25         V26         V27  \\\n",
              "count  772.000000  772.000000  772.000000  772.000000  772.000000  772.000000   \n",
              "mean    -0.096995   -0.040344   -0.002501    0.114337    0.022782    0.023353   \n",
              "std      0.607228    0.358724    0.621507    0.429667    0.484227    0.300934   \n",
              "min     -2.776923   -3.553381   -1.867208   -1.389079   -1.243924   -2.377933   \n",
              "25%     -0.525289   -0.176915   -0.379766   -0.166227   -0.313631   -0.047868   \n",
              "50%     -0.076551   -0.048353    0.091886    0.143723   -0.026414    0.023199   \n",
              "75%      0.307438    0.070085    0.426339    0.425798    0.260408    0.112199   \n",
              "max      1.574750    3.150413    1.215279    1.136720    3.087444    2.490503   \n",
              "\n",
              "              V28       Amount       Class  \n",
              "count  772.000000   772.000000  772.000000  \n",
              "mean    -0.017045    68.668290    0.011658  \n",
              "std      0.278332   197.838269    0.107411  \n",
              "min     -2.735623     0.000000    0.000000  \n",
              "25%     -0.033083     5.987500    0.000000  \n",
              "50%      0.021034    16.665000    0.000000  \n",
              "75%      0.087023    55.527500    0.000000  \n",
              "max      1.575380  3828.040000    1.000000  \n",
              "\n",
              "[8 rows x 31 columns]"
            ],
            "text/html": [
              "\n",
              "  <div id=\"df-5cbef411-b936-431c-a244-05191a182ea5\">\n",
              "    <div class=\"colab-df-container\">\n",
              "      <div>\n",
              "<style scoped>\n",
              "    .dataframe tbody tr th:only-of-type {\n",
              "        vertical-align: middle;\n",
              "    }\n",
              "\n",
              "    .dataframe tbody tr th {\n",
              "        vertical-align: top;\n",
              "    }\n",
              "\n",
              "    .dataframe thead th {\n",
              "        text-align: right;\n",
              "    }\n",
              "</style>\n",
              "<table border=\"1\" class=\"dataframe\">\n",
              "  <thead>\n",
              "    <tr style=\"text-align: right;\">\n",
              "      <th></th>\n",
              "      <th>Time</th>\n",
              "      <th>V1</th>\n",
              "      <th>V2</th>\n",
              "      <th>V3</th>\n",
              "      <th>V4</th>\n",
              "      <th>V5</th>\n",
              "      <th>V6</th>\n",
              "      <th>V7</th>\n",
              "      <th>V8</th>\n",
              "      <th>V9</th>\n",
              "      <th>...</th>\n",
              "      <th>V21</th>\n",
              "      <th>V22</th>\n",
              "      <th>V23</th>\n",
              "      <th>V24</th>\n",
              "      <th>V25</th>\n",
              "      <th>V26</th>\n",
              "      <th>V27</th>\n",
              "      <th>V28</th>\n",
              "      <th>Amount</th>\n",
              "      <th>Class</th>\n",
              "    </tr>\n",
              "  </thead>\n",
              "  <tbody>\n",
              "    <tr>\n",
              "      <th>count</th>\n",
              "      <td>772.000000</td>\n",
              "      <td>772.000000</td>\n",
              "      <td>772.000000</td>\n",
              "      <td>772.000000</td>\n",
              "      <td>772.000000</td>\n",
              "      <td>772.000000</td>\n",
              "      <td>772.000000</td>\n",
              "      <td>772.000000</td>\n",
              "      <td>772.000000</td>\n",
              "      <td>772.000000</td>\n",
              "      <td>...</td>\n",
              "      <td>772.000000</td>\n",
              "      <td>772.000000</td>\n",
              "      <td>772.000000</td>\n",
              "      <td>772.000000</td>\n",
              "      <td>772.000000</td>\n",
              "      <td>772.000000</td>\n",
              "      <td>772.000000</td>\n",
              "      <td>772.000000</td>\n",
              "      <td>772.000000</td>\n",
              "      <td>772.000000</td>\n",
              "    </tr>\n",
              "    <tr>\n",
              "      <th>mean</th>\n",
              "      <td>283.005181</td>\n",
              "      <td>-0.176963</td>\n",
              "      <td>0.217169</td>\n",
              "      <td>0.875172</td>\n",
              "      <td>0.285628</td>\n",
              "      <td>-0.005029</td>\n",
              "      <td>0.159081</td>\n",
              "      <td>0.123329</td>\n",
              "      <td>-0.057547</td>\n",
              "      <td>-0.030384</td>\n",
              "      <td>...</td>\n",
              "      <td>0.004888</td>\n",
              "      <td>-0.096995</td>\n",
              "      <td>-0.040344</td>\n",
              "      <td>-0.002501</td>\n",
              "      <td>0.114337</td>\n",
              "      <td>0.022782</td>\n",
              "      <td>0.023353</td>\n",
              "      <td>-0.017045</td>\n",
              "      <td>68.668290</td>\n",
              "      <td>0.011658</td>\n",
              "    </tr>\n",
              "    <tr>\n",
              "      <th>std</th>\n",
              "      <td>171.834196</td>\n",
              "      <td>1.294724</td>\n",
              "      <td>1.173401</td>\n",
              "      <td>1.031878</td>\n",
              "      <td>1.258758</td>\n",
              "      <td>1.098143</td>\n",
              "      <td>1.225682</td>\n",
              "      <td>0.852075</td>\n",
              "      <td>0.830144</td>\n",
              "      <td>0.878183</td>\n",
              "      <td>...</td>\n",
              "      <td>0.609335</td>\n",
              "      <td>0.607228</td>\n",
              "      <td>0.358724</td>\n",
              "      <td>0.621507</td>\n",
              "      <td>0.429667</td>\n",
              "      <td>0.484227</td>\n",
              "      <td>0.300934</td>\n",
              "      <td>0.278332</td>\n",
              "      <td>197.838269</td>\n",
              "      <td>0.107411</td>\n",
              "    </tr>\n",
              "    <tr>\n",
              "      <th>min</th>\n",
              "      <td>0.000000</td>\n",
              "      <td>-6.093248</td>\n",
              "      <td>-12.114213</td>\n",
              "      <td>-5.694973</td>\n",
              "      <td>-4.657545</td>\n",
              "      <td>-6.631951</td>\n",
              "      <td>-3.498447</td>\n",
              "      <td>-4.925568</td>\n",
              "      <td>-7.494658</td>\n",
              "      <td>-2.770089</td>\n",
              "      <td>...</td>\n",
              "      <td>-4.134608</td>\n",
              "      <td>-2.776923</td>\n",
              "      <td>-3.553381</td>\n",
              "      <td>-1.867208</td>\n",
              "      <td>-1.389079</td>\n",
              "      <td>-1.243924</td>\n",
              "      <td>-2.377933</td>\n",
              "      <td>-2.735623</td>\n",
              "      <td>0.000000</td>\n",
              "      <td>0.000000</td>\n",
              "    </tr>\n",
              "    <tr>\n",
              "      <th>25%</th>\n",
              "      <td>126.500000</td>\n",
              "      <td>-0.896416</td>\n",
              "      <td>-0.174684</td>\n",
              "      <td>0.308677</td>\n",
              "      <td>-0.460058</td>\n",
              "      <td>-0.534567</td>\n",
              "      <td>-0.630717</td>\n",
              "      <td>-0.296289</td>\n",
              "      <td>-0.167880</td>\n",
              "      <td>-0.517068</td>\n",
              "      <td>...</td>\n",
              "      <td>-0.213746</td>\n",
              "      <td>-0.525289</td>\n",
              "      <td>-0.176915</td>\n",
              "      <td>-0.379766</td>\n",
              "      <td>-0.166227</td>\n",
              "      <td>-0.313631</td>\n",
              "      <td>-0.047868</td>\n",
              "      <td>-0.033083</td>\n",
              "      <td>5.987500</td>\n",
              "      <td>0.000000</td>\n",
              "    </tr>\n",
              "    <tr>\n",
              "      <th>50%</th>\n",
              "      <td>282.000000</td>\n",
              "      <td>-0.382618</td>\n",
              "      <td>0.285843</td>\n",
              "      <td>0.905435</td>\n",
              "      <td>0.395919</td>\n",
              "      <td>-0.116612</td>\n",
              "      <td>-0.109581</td>\n",
              "      <td>0.116329</td>\n",
              "      <td>0.034755</td>\n",
              "      <td>-0.082270</td>\n",
              "      <td>...</td>\n",
              "      <td>-0.075802</td>\n",
              "      <td>-0.076551</td>\n",
              "      <td>-0.048353</td>\n",
              "      <td>0.091886</td>\n",
              "      <td>0.143723</td>\n",
              "      <td>-0.026414</td>\n",
              "      <td>0.023199</td>\n",
              "      <td>0.021034</td>\n",
              "      <td>16.665000</td>\n",
              "      <td>0.000000</td>\n",
              "    </tr>\n",
              "    <tr>\n",
              "      <th>75%</th>\n",
              "      <td>432.000000</td>\n",
              "      <td>1.110739</td>\n",
              "      <td>0.885745</td>\n",
              "      <td>1.532969</td>\n",
              "      <td>1.117559</td>\n",
              "      <td>0.452818</td>\n",
              "      <td>0.482972</td>\n",
              "      <td>0.575390</td>\n",
              "      <td>0.252395</td>\n",
              "      <td>0.412261</td>\n",
              "      <td>...</td>\n",
              "      <td>0.095149</td>\n",
              "      <td>0.307438</td>\n",
              "      <td>0.070085</td>\n",
              "      <td>0.426339</td>\n",
              "      <td>0.425798</td>\n",
              "      <td>0.260408</td>\n",
              "      <td>0.112199</td>\n",
              "      <td>0.087023</td>\n",
              "      <td>55.527500</td>\n",
              "      <td>0.000000</td>\n",
              "    </tr>\n",
              "    <tr>\n",
              "      <th>max</th>\n",
              "      <td>581.000000</td>\n",
              "      <td>1.586093</td>\n",
              "      <td>5.267376</td>\n",
              "      <td>3.772857</td>\n",
              "      <td>4.075817</td>\n",
              "      <td>7.672544</td>\n",
              "      <td>5.122103</td>\n",
              "      <td>4.808426</td>\n",
              "      <td>2.134599</td>\n",
              "      <td>5.459274</td>\n",
              "      <td>...</td>\n",
              "      <td>5.273420</td>\n",
              "      <td>1.574750</td>\n",
              "      <td>3.150413</td>\n",
              "      <td>1.215279</td>\n",
              "      <td>1.136720</td>\n",
              "      <td>3.087444</td>\n",
              "      <td>2.490503</td>\n",
              "      <td>1.575380</td>\n",
              "      <td>3828.040000</td>\n",
              "      <td>1.000000</td>\n",
              "    </tr>\n",
              "  </tbody>\n",
              "</table>\n",
              "<p>8 rows × 31 columns</p>\n",
              "</div>\n",
              "      <button class=\"colab-df-convert\" onclick=\"convertToInteractive('df-5cbef411-b936-431c-a244-05191a182ea5')\"\n",
              "              title=\"Convert this dataframe to an interactive table.\"\n",
              "              style=\"display:none;\">\n",
              "        \n",
              "  <svg xmlns=\"http://www.w3.org/2000/svg\" height=\"24px\"viewBox=\"0 0 24 24\"\n",
              "       width=\"24px\">\n",
              "    <path d=\"M0 0h24v24H0V0z\" fill=\"none\"/>\n",
              "    <path d=\"M18.56 5.44l.94 2.06.94-2.06 2.06-.94-2.06-.94-.94-2.06-.94 2.06-2.06.94zm-11 1L8.5 8.5l.94-2.06 2.06-.94-2.06-.94L8.5 2.5l-.94 2.06-2.06.94zm10 10l.94 2.06.94-2.06 2.06-.94-2.06-.94-.94-2.06-.94 2.06-2.06.94z\"/><path d=\"M17.41 7.96l-1.37-1.37c-.4-.4-.92-.59-1.43-.59-.52 0-1.04.2-1.43.59L10.3 9.45l-7.72 7.72c-.78.78-.78 2.05 0 2.83L4 21.41c.39.39.9.59 1.41.59.51 0 1.02-.2 1.41-.59l7.78-7.78 2.81-2.81c.8-.78.8-2.07 0-2.86zM5.41 20L4 18.59l7.72-7.72 1.47 1.35L5.41 20z\"/>\n",
              "  </svg>\n",
              "      </button>\n",
              "      \n",
              "  <style>\n",
              "    .colab-df-container {\n",
              "      display:flex;\n",
              "      flex-wrap:wrap;\n",
              "      gap: 12px;\n",
              "    }\n",
              "\n",
              "    .colab-df-convert {\n",
              "      background-color: #E8F0FE;\n",
              "      border: none;\n",
              "      border-radius: 50%;\n",
              "      cursor: pointer;\n",
              "      display: none;\n",
              "      fill: #1967D2;\n",
              "      height: 32px;\n",
              "      padding: 0 0 0 0;\n",
              "      width: 32px;\n",
              "    }\n",
              "\n",
              "    .colab-df-convert:hover {\n",
              "      background-color: #E2EBFA;\n",
              "      box-shadow: 0px 1px 2px rgba(60, 64, 67, 0.3), 0px 1px 3px 1px rgba(60, 64, 67, 0.15);\n",
              "      fill: #174EA6;\n",
              "    }\n",
              "\n",
              "    [theme=dark] .colab-df-convert {\n",
              "      background-color: #3B4455;\n",
              "      fill: #D2E3FC;\n",
              "    }\n",
              "\n",
              "    [theme=dark] .colab-df-convert:hover {\n",
              "      background-color: #434B5C;\n",
              "      box-shadow: 0px 1px 3px 1px rgba(0, 0, 0, 0.15);\n",
              "      filter: drop-shadow(0px 1px 2px rgba(0, 0, 0, 0.3));\n",
              "      fill: #FFFFFF;\n",
              "    }\n",
              "  </style>\n",
              "\n",
              "      <script>\n",
              "        const buttonEl =\n",
              "          document.querySelector('#df-5cbef411-b936-431c-a244-05191a182ea5 button.colab-df-convert');\n",
              "        buttonEl.style.display =\n",
              "          google.colab.kernel.accessAllowed ? 'block' : 'none';\n",
              "\n",
              "        async function convertToInteractive(key) {\n",
              "          const element = document.querySelector('#df-5cbef411-b936-431c-a244-05191a182ea5');\n",
              "          const dataTable =\n",
              "            await google.colab.kernel.invokeFunction('convertToInteractive',\n",
              "                                                     [key], {});\n",
              "          if (!dataTable) return;\n",
              "\n",
              "          const docLinkHtml = 'Like what you see? Visit the ' +\n",
              "            '<a target=\"_blank\" href=https://colab.research.google.com/notebooks/data_table.ipynb>data table notebook</a>'\n",
              "            + ' to learn more about interactive tables.';\n",
              "          element.innerHTML = '';\n",
              "          dataTable['output_type'] = 'display_data';\n",
              "          await google.colab.output.renderOutput(dataTable, element);\n",
              "          const docLink = document.createElement('div');\n",
              "          docLink.innerHTML = docLinkHtml;\n",
              "          element.appendChild(docLink);\n",
              "        }\n",
              "      </script>\n",
              "    </div>\n",
              "  </div>\n",
              "  "
            ]
          },
          "metadata": {},
          "execution_count": 190
        }
      ]
    },
    {
      "cell_type": "code",
      "source": [
        "import missingno as ms\n",
        "ms.bar(credit_card)"
      ],
      "metadata": {
        "colab": {
          "base_uri": "https://localhost:8080/",
          "height": 417
        },
        "id": "Os4FyxaAf65E",
        "outputId": "4fb33a2e-09f6-40cf-b367-6a5b9554825f"
      },
      "execution_count": 191,
      "outputs": [
        {
          "output_type": "execute_result",
          "data": {
            "text/plain": [
              "<matplotlib.axes._subplots.AxesSubplot at 0x7fde5cea5cd0>"
            ]
          },
          "metadata": {},
          "execution_count": 191
        },
        {
          "output_type": "display_data",
          "data": {
            "text/plain": [
              "<Figure size 1800x720 with 3 Axes>"
            ],
            "image/png": "[encoded data removed]"
          },
          "metadata": {
            "needs_background": "light"
          }
        }
      ]
    },
    {
      "cell_type": "code",
      "source": [
        "class_0 = credit_card[credit_card['Class'] == 0]\n",
        "class_1 = credit_card[credit_card['Class'] == 1]"
      ],
      "metadata": {
        "id": "rURL7_4UgCwa"
      },
      "execution_count": 192,
      "outputs": []
    },
    {
      "cell_type": "code",
      "source": [
        "print('class 0:', class_0.shape)\n",
        "print('class 1:', class_1.shape)"
      ],
      "metadata": {
        "colab": {
          "base_uri": "https://localhost:8080/"
        },
        "id": "tg1W0dzmgWtL",
        "outputId": "f1dcf857-7a2e-4a21-922e-c2a0564b4747"
      },
      "execution_count": 193,
      "outputs": [
        {
          "output_type": "stream",
          "name": "stdout",
          "text": [
            "class 0: (763, 31)\n",
            "class 1: (9, 31)\n"
          ]
        }
      ]
    },
    {
      "cell_type": "code",
      "source": [
        "from sklearn.model_selection import train_test_split"
      ],
      "metadata": {
        "id": "JLolYNMwlejN"
      },
      "execution_count": 194,
      "outputs": []
    },
    {
      "cell_type": "code",
      "source": [
        "X = credit_card.drop('Class', axis=1)\n",
        "y = credit_card['Class']"
      ],
      "metadata": {
        "id": "tz7VV5yZ5vrB"
      },
      "execution_count": 195,
      "outputs": []
    },
    {
      "cell_type": "code",
      "source": [
        "X_train, X_test, y_train, y_test = train_test_split(X, y, test_size=0.2, random_state=42)"
      ],
      "metadata": {
        "id": "QK8VMFNy13c9"
      },
      "execution_count": 196,
      "outputs": []
    },
    {
      "cell_type": "markdown",
      "source": [
        "BALANCING THE DATASET"
      ],
      "metadata": {
        "id": "tKubKhK_uCXh"
      }
    },
    {
      "cell_type": "code",
      "source": [
        "from imblearn.over_sampling import SMOTE\n",
        "smote = SMOTE()\n",
        "X_resampled, y_resampled = smote.fit_resample(X, y)\n",
        "print((y_resampled==0).sum())\n",
        "print((y_resampled==1).sum())"
      ],
      "metadata": {
        "colab": {
          "base_uri": "https://localhost:8080/"
        },
        "id": "gfuh1JzrsefL",
        "outputId": "0ea96b26-1f80-42e2-995f-666fc41739f4"
      },
      "execution_count": 197,
      "outputs": [
        {
          "output_type": "stream",
          "name": "stdout",
          "text": [
            "763\n",
            "763\n"
          ]
        }
      ]
    },
    {
      "cell_type": "code",
      "source": [
        "df=pd.DataFrame(X_resampled)\n",
        "df['Class']=y_resampled"
      ],
      "metadata": {
        "id": "myPtK9MjuZtV"
      },
      "execution_count": 198,
      "outputs": []
    },
    {
      "cell_type": "markdown",
      "source": [
        "SIMPLE SAMPLING"
      ],
      "metadata": {
        "id": "VhPyuDRGxfLP"
      }
    },
    {
      "cell_type": "code",
      "source": [
        "z=1.96\n",
        "p=0.5\n",
        "E=0.05\n",
        "sample_size = math.ceil((z*z*p*(1-p))/(E*E))\n",
        "samples=[]\n",
        "s1 = df.sample(n=sample_size, random_state=0)\n",
        "samples.append(s1)"
      ],
      "metadata": {
        "id": "dsRjd55JuyHC"
      },
      "execution_count": 200,
      "outputs": []
    },
    {
      "cell_type": "markdown",
      "source": [
        "SYSTEMATIC SAMPLING"
      ],
      "metadata": {
        "id": "QCX3UloyxhcN"
      }
    },
    {
      "cell_type": "code",
      "source": [
        "n = len(df)\n",
        "k = int(math.sqrt(n))\n",
        "s2 = df.iloc[::k]\n",
        "samples.append(s2)"
      ],
      "metadata": {
        "id": "BZHgYsYSveXx"
      },
      "execution_count": 201,
      "outputs": []
    },
    {
      "cell_type": "markdown",
      "source": [
        "STRATIFIED SAMPLING"
      ],
      "metadata": {
        "id": "eZSbcnoexr-I"
      }
    },
    {
      "cell_type": "code",
      "source": [
        "s3=df.groupby('Class', group_keys=False).apply(lambda x: x.sample(190))\n",
        "samples.append(s3)"
      ],
      "metadata": {
        "id": "WVlcWYoGxw08"
      },
      "execution_count": 202,
      "outputs": []
    },
    {
      "cell_type": "markdown",
      "source": [
        "CLUSTER SAMPLING"
      ],
      "metadata": {
        "id": "HTyrF30qyPDF"
      }
    },
    {
      "cell_type": "code",
      "source": [
        "z=1.96\n",
        "p=0.5\n",
        "E=0.05\n",
        "C=1.5\n",
        "sample_size = round(((z**2)*p*(1-p))/((E/C)**2))\n",
        "num_select_clusters=2\n",
        "df_new=df\n",
        "N = len(df)\n",
        "K = int(N/sample_size)\n",
        "data = None\n",
        "for k in range(K):\n",
        "    sample_k = df_new.sample(sample_size)\n",
        "    sample_k[\"cluster\"] = np.repeat(k,len(sample_k))\n",
        "    df_new = df_new.drop(index = sample_k.index)\n",
        "    data = pd.concat([data,sample_k],axis = 0)\n",
        "\n",
        "random_chosen_clusters = np.random.randint(0,K,size = num_select_clusters)\n",
        "s4 = data[data.cluster.isin(random_chosen_clusters)]\n",
        "s4.drop(['cluster'], axis=1, inplace=True)\n",
        "samples.append(s4)"
      ],
      "metadata": {
        "id": "Pu26C66RyQiG"
      },
      "execution_count": 203,
      "outputs": []
    },
    {
      "cell_type": "markdown",
      "source": [
        "RANDOM OVERSAMPLING ON ORIGINAL IMBALANCED DATASET"
      ],
      "metadata": {
        "id": "x_1rlVtG6mVR"
      }
    },
    {
      "cell_type": "code",
      "source": [
        "from imblearn.over_sampling import RandomOverSampler\n",
        "sampler = RandomOverSampler(sampling_strategy='minority', random_state=42)"
      ],
      "metadata": {
        "id": "ZD2bBk1q2UoX"
      },
      "execution_count": 204,
      "outputs": []
    },
    {
      "cell_type": "code",
      "source": [
        "X_resampled1, y_resampled1 = sampler.fit_resample(X_train, y_train)\n",
        "df_new1=pd.DataFrame(X_resampled1)\n",
        "df_new1['Class']=y_resampled1\n",
        "s5=df_new1\n",
        "samples.append(s5)"
      ],
      "metadata": {
        "id": "XdZWlxVa1125"
      },
      "execution_count": 205,
      "outputs": []
    },
    {
      "cell_type": "code",
      "source": [
        "sampling=['Simple','Systematic','Cluster','Stratified','Random_oversampling']\n",
        "final_df=pd.DataFrame(columns=sampling, index=['Logistic Regression','Support Vector Machine','K Nearest Neighbours','XGBoost','Random Forest'])"
      ],
      "metadata": {
        "id": "TtepL4--_q8W"
      },
      "execution_count": 206,
      "outputs": []
    },
    {
      "cell_type": "code",
      "source": [
        "for i in range(5):\n",
        "    index=0\n",
        "    x=samples[i].drop('Class',axis=1)\n",
        "    y=samples[i]['Class']\n",
        "    xtrain, xtest, y_train, y_test = train_test_split(x ,y , random_state=42, test_size=0.2, shuffle=True)\n",
        "\n",
        "    classifier = LogisticRegression(max_iter=5000)\n",
        "    classifier.fit(xtrain, y_train)\n",
        "    y_pred = classifier.predict(xtest)\n",
        "    accuracy = accuracy_score(y_test, y_pred)\n",
        "    final_df.iloc[index,i]=accuracy*100\n",
        "\n",
        "    clf = SVC()\n",
        "    clf.fit(xtrain, y_train) \n",
        "    y_pred=clf.predict(xtest)\n",
        "    accuracy = accuracy_score(y_test, y_pred)\n",
        "    final_df.iloc[index+1,i]=accuracy*100\n",
        "\n",
        "    knn = KNeighborsClassifier()\n",
        "    knn.fit(xtrain, y_train)\n",
        "    y_pred=knn.predict(xtest)\n",
        "    accuracy = accuracy_score(y_test, y_pred)\n",
        "    final_df.iloc[index+2,i]=accuracy*100\n",
        "\n",
        "    xg=XGBClassifier()\n",
        "    xg.fit(xtrain, y_train)\n",
        "    y_pred=xg.predict(xtest)\n",
        "    accuracy = accuracy_score(y_test, y_pred)\n",
        "    final_df.iloc[index+3,i]=accuracy*100\n",
        "\n",
        "    \n",
        "    clf = RandomForestClassifier() \n",
        "    clf.fit(xtrain, y_train)\n",
        "    y_pred = clf.predict(xtest)\n",
        "    accuracy = accuracy_score(y_test, y_pred)\n",
        "    final_df.iloc[index+4,i]=accuracy*100\n",
        "print(final_df)"
      ],
      "metadata": {
        "colab": {
          "base_uri": "https://localhost:8080/"
        },
        "id": "9Zp67qCM2sRS",
        "outputId": "13652412-a3ec-4514-f6ba-604c5cddf3a4"
      },
      "execution_count": 207,
      "outputs": [
        {
          "output_type": "stream",
          "name": "stdout",
          "text": [
            "                           Simple Systematic    Cluster Stratified  \\\n",
            "Logistic Regression     94.805195       62.5  89.473684  94.219653   \n",
            "Support Vector Machine  68.831169       12.5  55.263158  67.052023   \n",
            "K Nearest Neighbours    77.922078       12.5  68.421053  84.393064   \n",
            "XGBoost                 97.402597       87.5  98.684211  98.265896   \n",
            "Random Forest           98.701299       87.5  98.684211  99.421965   \n",
            "\n",
            "                       Random_oversampling  \n",
            "Logistic Regression              92.213115  \n",
            "Support Vector Machine           76.229508  \n",
            "K Nearest Neighbours             99.590164  \n",
            "XGBoost                              100.0  \n",
            "Random Forest                        100.0  \n"
          ]
        }
      ]
    }
  ]
}